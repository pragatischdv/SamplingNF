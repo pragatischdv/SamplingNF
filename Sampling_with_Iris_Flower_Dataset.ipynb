{
  "nbformat": 4,
  "nbformat_minor": 0,
  "metadata": {
    "colab": {
      "name": "Sampling with Iris Flower Dataset.ipynb",
      "provenance": [],
      "authorship_tag": "ABX9TyNZf48ngt2i2VUu5nWXi8kl"
    },
    "kernelspec": {
      "name": "python3",
      "display_name": "Python 3"
    },
    "language_info": {
      "name": "python"
    }
  },
  "cells": [
    {
      "cell_type": "code",
      "source": [
        "!pip install nflows"
      ],
      "metadata": {
        "id": "7uvCp3kaQ2YP"
      },
      "execution_count": null,
      "outputs": []
    },
    {
      "cell_type": "code",
      "execution_count": 90,
      "metadata": {
        "id": "D4JOI0r-QAuA"
      },
      "outputs": [],
      "source": [
        "import pandas as pd\n",
        "import numpy as np\n",
        "import math\n",
        "\n",
        "import torch\n",
        "from torch import nn\n",
        "from torch import optim\n",
        "from sklearn.decomposition import PCA\n",
        " \n",
        "from nflows.flows.base import Flow\n",
        "from nflows.distributions.normal import StandardNormal\n",
        "from nflows.transforms.base import CompositeTransform\n",
        "from nflows.transforms.autoregressive import MaskedAffineAutoregressiveTransform\n",
        "from nflows.transforms.coupling import AffineCouplingTransform\n",
        "from nflows.transforms.linear import NaiveLinear\n",
        "from nflows.transforms.permutations import ReversePermutation\n",
        "def warn(*args, **kwargs):\n",
        "    pass\n",
        "import warnings\n",
        "warnings.warn = warn\n",
        "from sklearn.naive_bayes import GaussianNB\n",
        "from sklearn.metrics import accuracy_score\n",
        "from sklearn.linear_model import LogisticRegression\n",
        "from sklearn.neighbors import KNeighborsClassifier\n",
        "from sklearn.ensemble import RandomForestClassifier"
      ]
    },
    {
      "cell_type": "code",
      "source": [
        "data = pd.read_csv(\"/content/iris_flower.csv\")\n",
        "print(data.head())"
      ],
      "metadata": {
        "colab": {
          "base_uri": "https://localhost:8080/"
        },
        "id": "4DxrcgoWYDaf",
        "outputId": "5a937f03-1bbf-447d-ee47-e3ad8fe55011"
      },
      "execution_count": 137,
      "outputs": [
        {
          "output_type": "stream",
          "name": "stdout",
          "text": [
            "   sepal_length  sepal_width  petal_length  petal_width  type\n",
            "0           5.1          3.5           1.4          0.2     1\n",
            "1           4.9          3.0           1.4          0.2     1\n",
            "2           4.7          3.2           1.3          0.2     1\n",
            "3           4.6          3.1           1.5          0.2     1\n",
            "4           5.0          3.6           1.4          0.2     1\n"
          ]
        }
      ]
    },
    {
      "cell_type": "code",
      "source": [
        "input_data = data.drop(\"type\", axis=1)\n",
        "output_data = np.array(data[\"type\"])"
      ],
      "metadata": {
        "id": "jcALIwsLQchq"
      },
      "execution_count": 165,
      "outputs": []
    },
    {
      "cell_type": "code",
      "source": [
        "MAX_CLASS_INT = 3\n",
        "MIN_CLASS_INT = 1\n",
        "N_SAMPLES = len(data)"
      ],
      "metadata": {
        "id": "45_o-vIePp47"
      },
      "execution_count": 93,
      "outputs": []
    },
    {
      "cell_type": "code",
      "source": [
        "pca = PCA(n_components = 1)\n",
        "input_data = pca.fit_transform(input_data)"
      ],
      "metadata": {
        "id": "XhVtasJ_RZWh"
      },
      "execution_count": 166,
      "outputs": []
    },
    {
      "cell_type": "code",
      "source": [
        "final_data = []\n",
        "for i in range(len(output_data)):\n",
        "  final_data.append([input_data[i][0], output_data[i]])\n",
        "\n",
        "final_data = np.array(final_data)"
      ],
      "metadata": {
        "id": "zwGpxsluR9Oi"
      },
      "execution_count": 231,
      "outputs": []
    },
    {
      "cell_type": "code",
      "source": [
        "num_layers = 7\n",
        "base_dist = StandardNormal(shape=[2])\n",
        "num_iter = 10000"
      ],
      "metadata": {
        "id": "0uLuvTwZJ34f"
      },
      "execution_count": 96,
      "outputs": []
    },
    {
      "cell_type": "markdown",
      "source": [
        "Masked Autoregrssive Flow"
      ],
      "metadata": {
        "id": "rL2-aUeDKBzW"
      }
    },
    {
      "cell_type": "code",
      "source": [
        "transforms = []\n",
        "for _ in range(num_layers):\n",
        "     transforms.append(MaskedAffineAutoregressiveTransform(features=2, \n",
        "                                                            hidden_features=4))\n",
        "\n",
        "transform = CompositeTransform(transforms)\n",
        "\n",
        "flow = Flow(transform, base_dist)\n",
        "optimizer = optim.Adam(flow.parameters())"
      ],
      "metadata": {
        "id": "Jmhisli0Q_Lb"
      },
      "execution_count": 97,
      "outputs": []
    },
    {
      "cell_type": "code",
      "source": [
        "for i in range(num_iter):\n",
        "    #x, y = datasets.make_circles(n_samples=300, factor=0.5, noise=0.05)\n",
        "    x = torch.tensor(final_data, dtype=torch.float32)\n",
        "    optimizer.zero_grad()\n",
        "    loss = -flow.log_prob(inputs=x).mean()\n",
        "    loss.backward()\n",
        "    optimizer.step()"
      ],
      "metadata": {
        "id": "ekMIO4xuRt3H"
      },
      "execution_count": 98,
      "outputs": []
    },
    {
      "cell_type": "markdown",
      "source": [
        "Autoregressive Flow with Coupling layer"
      ],
      "metadata": {
        "id": "kyKWGhhxLx5Z"
      }
    },
    {
      "cell_type": "code",
      "source": [
        "mask_1 = [0,1]\n",
        "mask_2 = [1,0]\n",
        "class Net(nn.Module):\n",
        "\n",
        "    def __init__(self, in_channel, out_channels):\n",
        "        super().__init__()\n",
        "        layers = [nn.Linear(in_channel, in_channel), \n",
        "                  nn.ReLU(), \n",
        "                  nn.Linear(in_channel, in_channel), \n",
        "                  nn.ReLU(), \n",
        "                  nn.Linear(in_channel, out_channels)]\n",
        "        self.net = nn.Sequential(*layers)\n",
        "\n",
        "    def forward(self, inp, context=None):\n",
        "        return self.net(inp)\n",
        "\n",
        "def getNet(in_channel, out_channels):\n",
        "        return Net(in_channel, out_channels)\n",
        "transforms_cl = []\n",
        "for _ in range(2):\n",
        "     transforms_cl.append(AffineCouplingTransform(mask_1, getNet))\n",
        "     transforms_cl.append(AffineCouplingTransform(mask_2, getNet))\n",
        "\n",
        "transform_cl = CompositeTransform(transforms_cl)\n",
        "\n",
        "flow_cl = Flow(transform_cl, base_dist)\n",
        "optimizer_cl = optim.Adam(flow_cl.parameters())"
      ],
      "metadata": {
        "id": "Vud6whJGJ0fj"
      },
      "execution_count": 99,
      "outputs": []
    },
    {
      "cell_type": "code",
      "source": [
        "for i in range(num_iter):\n",
        "    #x, y = datasets.make_circles(n_samples=300, factor=0.5, noise=0.05)\n",
        "    x = torch.tensor(final_data, dtype=torch.float32)\n",
        "    optimizer_cl.zero_grad()\n",
        "    loss_cl = -flow_cl.log_prob(inputs=x).mean()\n",
        "    loss_cl.backward()\n",
        "    optimizer_cl.step()"
      ],
      "metadata": {
        "id": "x8r7b9q8Kh2p"
      },
      "execution_count": 100,
      "outputs": []
    },
    {
      "cell_type": "markdown",
      "source": [
        "Linear Flow"
      ],
      "metadata": {
        "id": "z-aUvPS9NXyQ"
      }
    },
    {
      "cell_type": "code",
      "source": [
        "transforms_l = []\n",
        "\n",
        "for _ in range(num_layers):\n",
        "     transforms_l.append(ReversePermutation(features=2))\n",
        "     transforms_l.append(NaiveLinear(features=2))\n",
        "\n",
        "transform_l = CompositeTransform(transforms_l)\n",
        "\n",
        "flow_l = Flow(transform_l, base_dist)\n",
        "optimizer_l = optim.Adam(flow_l.parameters())"
      ],
      "metadata": {
        "id": "zMdwGIRNL54M"
      },
      "execution_count": 101,
      "outputs": []
    },
    {
      "cell_type": "code",
      "source": [
        "for i in range(num_iter):\n",
        "    #x, y = datasets.make_circles(n_samples=300, factor=0.5, noise=0.05)\n",
        "    x = torch.tensor(final_data, dtype=torch.float32)\n",
        "    optimizer_l.zero_grad()\n",
        "    loss_l = -flow_l.log_prob(inputs=x).mean()\n",
        "    loss_l.backward()\n",
        "    optimizer_l.step()"
      ],
      "metadata": {
        "id": "TlAaJDr9MOOu"
      },
      "execution_count": 102,
      "outputs": []
    },
    {
      "cell_type": "code",
      "source": [
        "def guassianNB_accuracy(flow):\n",
        "  max_accuracy = 0\n",
        "  for i in range(100):\n",
        "    samples = flow.sample(N_SAMPLES)\n",
        "    samples = samples.detach().numpy()\n",
        "\n",
        "    y_sample = samples[:, 1]\n",
        "    for i in range(N_SAMPLES):\n",
        "      y_sample[i] = math.floor(y_sample[i])\n",
        "      if y_sample[i] < MIN_CLASS_INT:\n",
        "        y_sample[i] = MIN_CLASS_INT\n",
        "      elif y_sample[i] > MAX_CLASS_INT:\n",
        "        y_sample[i] = MAX_CLASS_INT\n",
        "\n",
        "    model_with_real_data = GaussianNB()\n",
        "    model_with_sampled_data = GaussianNB()\n",
        "\n",
        "    model_with_real_data.fit(final_data[:, 0].reshape(-1, 1), final_data[:, 1].reshape(-1, 1))\n",
        "    model_with_sampled_data.fit(samples[:, 0].reshape(-1, 1), samples[:, 1].reshape(-1, 1))\n",
        "\n",
        "    pred_data_real = model_with_real_data.predict(final_data[:, 0].reshape(-1, 1))\n",
        "    pred_data_sampled = model_with_sampled_data.predict(final_data[:, 0].reshape(-1, 1))\n",
        "\n",
        "    accuracy = accuracy_score(pred_data_real,pred_data_sampled)\n",
        "\n",
        "    if max_accuracy < accuracy:\n",
        "      max_accuracy = accuracy\n",
        "\n",
        "  print(max_accuracy)\n",
        "\n"
      ],
      "metadata": {
        "id": "GkQ4uLRYP9N2"
      },
      "execution_count": 103,
      "outputs": []
    },
    {
      "cell_type": "code",
      "source": [
        "def logistic_regression_accuracy(flow):  \n",
        "  max_accuracy_lr = 0\n",
        "  for i in range(100):\n",
        "    samples = flow.sample(N_SAMPLES)\n",
        "    samples = samples.detach().numpy()\n",
        "\n",
        "    y_sample = samples[:, 1]\n",
        "    for i in range(N_SAMPLES):\n",
        "      y_sample[i] = math.floor(y_sample[i])\n",
        "      if y_sample[i] < MIN_CLASS_INT:\n",
        "        y_sample[i] = MIN_CLASS_INT\n",
        "      elif y_sample[i] > MAX_CLASS_INT:\n",
        "        y_sample[i] = MAX_CLASS_INT\n",
        "\n",
        "    model_with_real_data = LogisticRegression(random_state = 0)\n",
        "    model_with_sampled_data = LogisticRegression(random_state = 0)\n",
        "\n",
        "    model_with_real_data.fit(final_data[:, 0].reshape(-1, 1), final_data[:, 1].reshape(-1, 1))\n",
        "    model_with_sampled_data.fit(samples[:, 0].reshape(-1, 1), samples[:, 1].reshape(-1, 1))\n",
        "\n",
        "    pred_data_real = model_with_real_data.predict(final_data[:, 0].reshape(-1, 1))\n",
        "    pred_data_sampled = model_with_sampled_data.predict(final_data[:, 0].reshape(-1, 1))\n",
        "\n",
        "    accuracy = accuracy_score(pred_data_real,pred_data_sampled)\n",
        "\n",
        "    if max_accuracy_lr < accuracy:\n",
        "      max_accuracy_lr = accuracy\n",
        "\n",
        "  print(max_accuracy_lr)"
      ],
      "metadata": {
        "id": "hSMSObf_RNEO"
      },
      "execution_count": 104,
      "outputs": []
    },
    {
      "cell_type": "code",
      "source": [
        "def knn_accuracy(flow):\n",
        "  max_accuracy_knn = 0\n",
        "  for i in range(100):\n",
        "    samples = flow.sample(N_SAMPLES)\n",
        "    samples = samples.detach().numpy()\n",
        "\n",
        "    y_sample = samples[:, 1]\n",
        "    for i in range(N_SAMPLES):\n",
        "      y_sample[i] = math.floor(y_sample[i])\n",
        "      if y_sample[i] < MIN_CLASS_INT:\n",
        "        y_sample[i] = MIN_CLASS_INT\n",
        "      elif y_sample[i] > MAX_CLASS_INT:\n",
        "        y_sample[i] = MAX_CLASS_INT\n",
        "\n",
        "    model_with_real_data = KNeighborsClassifier(n_neighbors=7)\n",
        "    model_with_sampled_data = KNeighborsClassifier(n_neighbors=7)\n",
        "\n",
        "    model_with_real_data.fit(final_data[:, 0].reshape(-1, 1), final_data[:, 1].reshape(-1, 1))\n",
        "    model_with_sampled_data.fit(samples[:, 0].reshape(-1, 1), samples[:, 1].reshape(-1, 1))\n",
        "\n",
        "    pred_data_real = model_with_real_data.predict(final_data[:, 0].reshape(-1, 1))\n",
        "    pred_data_sampled = model_with_sampled_data.predict(final_data[:, 0].reshape(-1, 1))\n",
        "\n",
        "    accuracy = accuracy_score(pred_data_real,pred_data_sampled)\n",
        "\n",
        "    if max_accuracy_knn < accuracy:\n",
        "      max_accuracy_knn = accuracy\n",
        "\n",
        "  print(max_accuracy_knn)"
      ],
      "metadata": {
        "id": "da3A30LWSym2"
      },
      "execution_count": 105,
      "outputs": []
    },
    {
      "cell_type": "code",
      "source": [
        "def random_forest_accuracy(flow):  \n",
        "  max_accuracy_rf = 0\n",
        "  for i in range(100):\n",
        "    samples = flow.sample(N_SAMPLES)\n",
        "    samples = samples.detach().numpy()\n",
        "\n",
        "    y_sample = samples[:, 1]\n",
        "    for i in range(N_SAMPLES):\n",
        "      y_sample[i] = math.floor(y_sample[i])\n",
        "      if y_sample[i] < MIN_CLASS_INT:\n",
        "        y_sample[i] = MIN_CLASS_INT\n",
        "      elif y_sample[i] > MAX_CLASS_INT:\n",
        "        y_sample[i] = MAX_CLASS_INT\n",
        "\n",
        "    model_with_real_data = RandomForestClassifier(n_estimators = 100)\n",
        "    model_with_sampled_data = RandomForestClassifier(n_estimators = 100)\n",
        "\n",
        "    model_with_real_data.fit(final_data[:, 0].reshape(-1, 1), final_data[:, 1].reshape(-1, 1))\n",
        "    model_with_sampled_data.fit(samples[:, 0].reshape(-1, 1), samples[:, 1].reshape(-1, 1))\n",
        "\n",
        "    pred_data_real = model_with_real_data.predict(final_data[:, 0].reshape(-1, 1))\n",
        "    pred_data_sampled = model_with_sampled_data.predict(final_data[:, 0].reshape(-1, 1))\n",
        "\n",
        "    accuracy = accuracy_score(pred_data_real,pred_data_sampled)\n",
        "\n",
        "    if max_accuracy_rf < accuracy:\n",
        "      max_accuracy_rf = accuracy\n",
        "\n",
        "  print(max_accuracy_rf) #0.3"
      ],
      "metadata": {
        "id": "1svzjhfUTLz9"
      },
      "execution_count": 106,
      "outputs": []
    },
    {
      "cell_type": "code",
      "source": [
        "guassianNB_accuracy(flow)\n",
        "guassianNB_accuracy(flow_cl)\n",
        "guassianNB_accuracy(flow_l)"
      ],
      "metadata": {
        "colab": {
          "base_uri": "https://localhost:8080/"
        },
        "id": "FnDlCAQrMeEu",
        "outputId": "7ecf1b3d-8845-4d73-923d-95f744f47578"
      },
      "execution_count": 107,
      "outputs": [
        {
          "output_type": "stream",
          "name": "stdout",
          "text": [
            "0.8066666666666666\n",
            "0.9133333333333333\n",
            "0.76\n"
          ]
        }
      ]
    },
    {
      "cell_type": "code",
      "source": [
        "logistic_regression_accuracy(flow)\n",
        "logistic_regression_accuracy(flow_cl)\n",
        "logistic_regression_accuracy(flow_l)"
      ],
      "metadata": {
        "colab": {
          "base_uri": "https://localhost:8080/"
        },
        "id": "nqQ51OyLMkXg",
        "outputId": "11055fc8-8cf8-47c5-c4e9-b50838bbe658"
      },
      "execution_count": 108,
      "outputs": [
        {
          "output_type": "stream",
          "name": "stdout",
          "text": [
            "0.7533333333333333\n",
            "0.8533333333333334\n",
            "0.7466666666666667\n"
          ]
        }
      ]
    },
    {
      "cell_type": "code",
      "source": [
        "knn_accuracy(flow)\n",
        "knn_accuracy(flow_cl)\n",
        "knn_accuracy(flow_l)"
      ],
      "metadata": {
        "colab": {
          "base_uri": "https://localhost:8080/"
        },
        "id": "_ZRO5ZOjMuUp",
        "outputId": "acea18d3-0d5a-4a5c-f92d-c591d1141ebb"
      },
      "execution_count": 109,
      "outputs": [
        {
          "output_type": "stream",
          "name": "stdout",
          "text": [
            "0.8733333333333333\n",
            "0.76\n",
            "0.78\n"
          ]
        }
      ]
    },
    {
      "cell_type": "code",
      "source": [
        "random_forest_accuracy(flow)\n",
        "random_forest_accuracy(flow_cl)\n",
        "random_forest_accuracy(flow_l)"
      ],
      "metadata": {
        "colab": {
          "base_uri": "https://localhost:8080/"
        },
        "id": "JsHz-qQ9Mzmr",
        "outputId": "41e8d91b-9df3-42a6-eead-f62578ec120f"
      },
      "execution_count": 110,
      "outputs": [
        {
          "output_type": "stream",
          "name": "stdout",
          "text": [
            "0.7733333333333333\n",
            "0.68\n",
            "0.7666666666666667\n"
          ]
        }
      ]
    },
    {
      "cell_type": "code",
      "source": [
        "model_with_real_data = GaussianNB()\n",
        "model_with_real_data.fit(final_data[:, 0].reshape(-1, 1), final_data[:, 1].reshape(-1, 1))\n",
        "pred_data_real = model_with_real_data.predict(final_data[:, 0].reshape(-1, 1))\n",
        "original_accuracy = accuracy_score(pred_data_real,final_data[:, 1].reshape(-1, 1))\n",
        "print(original_accuracy)"
      ],
      "metadata": {
        "colab": {
          "base_uri": "https://localhost:8080/"
        },
        "id": "WDxsuFq5KnwH",
        "outputId": "22d569bb-5430-4c7a-9b4f-091e2456dc10"
      },
      "execution_count": 120,
      "outputs": [
        {
          "output_type": "stream",
          "name": "stdout",
          "text": [
            "0.94\n"
          ]
        }
      ]
    },
    {
      "cell_type": "code",
      "source": [
        "max_accuracy = 0\n",
        "final_sampled_pred_data = []\n",
        "final_sample = []\n",
        "print(N_SAMPLES)\n",
        "for i in range(100):\n",
        "  samples = flow.sample(N_SAMPLES)\n",
        "  samples = samples.detach().numpy()\n",
        "\n",
        "  y_sample = samples[:, 1]\n",
        "  for i in range(N_SAMPLES):\n",
        "    y_sample[i] = math.floor(y_sample[i])\n",
        "    if y_sample[i] < MIN_CLASS_INT:\n",
        "      y_sample[i] = MIN_CLASS_INT\n",
        "    elif y_sample[i] > MAX_CLASS_INT:\n",
        "      y_sample[i] = MAX_CLASS_INT\n",
        "\n",
        "  model_with_sampled_data = GaussianNB()\n",
        "\n",
        "  model_with_sampled_data.fit(samples[:, 0].reshape(-1, 1), samples[:, 1].reshape(-1, 1))\n",
        "\n",
        "  pred_data_sampled = model_with_sampled_data.predict(final_data[:, 0].reshape(-1, 1))\n",
        "\n",
        "  accuracy = accuracy_score(pred_data_real,pred_data_sampled)\n",
        "\n",
        "  if max_accuracy < accuracy:\n",
        "    max_accuracy = accuracy\n",
        "    final_sampled_pred_data = pred_data_sampled\n",
        "    final_sample = samples\n",
        "\n",
        "print(max_accuracy)\n",
        "print(len(final_sample))"
      ],
      "metadata": {
        "colab": {
          "base_uri": "https://localhost:8080/"
        },
        "id": "XXPu3f9vK6qK",
        "outputId": "5e9f6c3b-f630-4073-ffb8-4b911dc598f9"
      },
      "execution_count": 123,
      "outputs": [
        {
          "output_type": "stream",
          "name": "stdout",
          "text": [
            "150\n",
            "0.8066666666666666\n",
            "150\n"
          ]
        }
      ]
    },
    {
      "cell_type": "code",
      "source": [
        "new_data = []  \n",
        "for i in range(N_SAMPLES):\n",
        "  if final_sampled_pred_data[i] == pred_data_real[i]:\n",
        "    new_data.append(final_sample[i])\n",
        "new_data = np.array(new_data)\n",
        "new_data = new_data.tolist()\n",
        "final_data = final_data.tolist()\n",
        "print(new_data)\n",
        "print(final_data)"
      ],
      "metadata": {
        "colab": {
          "base_uri": "https://localhost:8080/"
        },
        "id": "ZeWazwAbLwtE",
        "outputId": "3a9bdd6f-34fb-4e2a-e79f-582b331d9f85"
      },
      "execution_count": 168,
      "outputs": [
        {
          "output_type": "stream",
          "name": "stdout",
          "text": [
            "[[3.481318235397339, 3.0], [-3.5504167079925537, 1.0], [-0.554054856300354, 2.0], [0.4395986795425415, 2.0], [-0.954962432384491, 1.0], [0.13766305148601532, 1.0], [-3.235400915145874, 1.0], [0.7352333068847656, 1.0], [-3.791921377182007, 1.0], [-4.416156768798828, 1.0], [1.7827534675598145, 2.0], [2.3531270027160645, 2.0], [-1.5080410242080688, 1.0], [-1.336043357849121, 1.0], [-1.4927600622177124, 1.0], [-0.26046496629714966, 2.0], [-1.4803223609924316, 1.0], [0.5798800587654114, 2.0], [-1.7876781225204468, 1.0], [0.6042580604553223, 2.0], [2.447643995285034, 3.0], [2.2479140758514404, 3.0], [0.728935718536377, 2.0], [-2.1821811199188232, 1.0], [-1.7744203805923462, 1.0], [-1.4611672163009644, 1.0], [1.5959348678588867, 2.0], [0.9119324088096619, 2.0], [0.08456754684448242, 1.0], [-0.9842081665992737, 1.0], [-3.6376523971557617, 1.0], [1.707011342048645, 3.0], [3.1800832748413086, 2.0], [-2.448150396347046, 1.0], [0.5406131744384766, 2.0], [-0.9241087436676025, 2.0], [1.5913238525390625, 2.0], [-0.02118179202079773, 1.0], [0.906543493270874, 1.0], [-0.189974844455719, 1.0], [-6.0867600440979, 1.0], [-2.687950372695923, 1.0], [-4.285700798034668, 1.0], [-0.06356344372034073, 2.0], [-2.609367609024048, 1.0], [0.9664273858070374, 1.0], [2.73507022857666, 3.0], [-0.854586660861969, 2.0], [-0.17941999435424805, 2.0], [-0.08750864118337631, 2.0], [2.221789836883545, 3.0], [2.3966517448425293, 3.0], [0.34001609683036804, 1.0], [-0.10013393312692642, 1.0], [0.5144464373588562, 2.0], [-0.5486793518066406, 2.0], [2.612436056137085, 3.0], [-3.099353313446045, 1.0], [-1.9827444553375244, 1.0], [-0.6296120882034302, 2.0], [-1.7066833972930908, 1.0], [0.25350630283355713, 2.0], [1.5326696634292603, 2.0], [-1.3594143390655518, 1.0], [2.922128438949585, 3.0], [-0.03545200452208519, 2.0], [3.2052958011627197, 3.0], [-0.9854324460029602, 1.0], [-0.2937344014644623, 1.0], [1.057254672050476, 2.0], [-1.3296499252319336, 1.0], [-2.2447147369384766, 1.0], [-1.5738955736160278, 1.0], [-1.0522880554199219, 1.0], [1.817305564880371, 2.0], [2.249951124191284, 3.0], [-0.1608848124742508, 1.0], [-3.145481586456299, 1.0], [-0.28850221633911133, 2.0], [0.24351221323013306, 2.0], [-1.532070279121399, 1.0], [-3.7757298946380615, 1.0], [0.5553253293037415, 1.0], [2.9824867248535156, 3.0], [-3.355161666870117, 1.0], [3.3153903484344482, 3.0], [1.008237361907959, 2.0], [1.2095211744308472, 2.0], [0.007122799754142761, 2.0], [-1.7802233695983887, 1.0], [-2.074798107147217, 1.0], [-1.0240126848220825, 1.0], [0.24084652960300446, 1.0], [-2.145693778991699, 1.0], [-3.6930861473083496, 1.0], [-1.4698776006698608, 1.0], [-0.5439596772193909, 1.0], [-1.8835159540176392, 1.0], [1.9575743675231934, 2.0], [-0.28163179755210876, 1.0], [-0.29032257199287415, 2.0], [1.2183533906936646, 2.0], [-2.4046530723571777, 1.0], [0.5951604247093201, 2.0], [-3.009136915206909, 1.0], [2.227783679962158, 2.0], [2.2653472423553467, 3.0], [1.2811721563339233, 3.0], [-4.192044258117676, 1.0], [-0.21297232806682587, 1.0], [1.0914219617843628, 1.0], [-3.456756114959717, 1.0], [0.45465224981307983, 2.0], [0.4954533278942108, 1.0], [1.0259251594543457, 2.0], [-0.5477387309074402, 1.0], [0.9442844986915588, 2.0], [-2.4768247604370117, 1.0], [-0.16850072145462036, 2.0], [-2.3010294437408447, 1.0], [-0.9736793041229248, 1.0]]\n",
            "[[-2.6842071251039483, 1.0], [-2.71539061563413, 1.0], [-2.889819539617916, 1.0], [-2.746437197308734, 1.0], [-2.7285929818313144, 1.0], [-2.279897361009598, 1.0], [-2.8208906821806297, 1.0], [-2.6264819933238184, 1.0], [-2.887958565335634, 1.0], [-2.6738446867191206, 1.0], [-2.5065267893389036, 1.0], [-2.613142718271056, 1.0], [-2.787433975997097, 1.0], [-3.22520044627498, 1.0], [-2.643543216941146, 1.0], [-2.3838693237993756, 1.0], [-2.6225262031258083, 1.0], [-2.6483227324791265, 1.0], [-2.1990779614307634, 1.0], [-2.587346188917738, 1.0], [-2.3105317013131335, 1.0], [-2.5432349073036953, 1.0], [-3.215857694900105, 1.0], [-2.3031285376638824, 1.0], [-2.3561710866838976, 1.0], [-2.5079172268378804, 1.0], [-2.4690559975451225, 1.0], [-2.5623909468367505, 1.0], [-2.6398212683765814, 1.0], [-2.632847908030758, 1.0], [-2.588462051303391, 1.0], [-2.4100773371215958, 1.0], [-2.647636673396901, 1.0], [-2.5971594770759183, 1.0], [-2.6738446867191206, 1.0], [-2.866999846932534, 1.0], [-2.625228464680421, 1.0], [-2.6738446867191206, 1.0], [-2.981842664853908, 1.0], [-2.590323025585674, 1.0], [-2.770138910746324, 1.0], [-2.8522110815663906, 1.0], [-2.9982964428323506, 1.0], [-2.4055141012847012, 1.0], [-2.2088329541767058, 1.0], [-2.715665190747454, 1.0], [-2.537573371013507, 1.0], [-2.8403212968270086, 1.0], [-2.5426857570770482, 1.0], [-2.70391231486365, 1.0], [1.284794587845071, 2.0], [0.9324107529829175, 2.0], [1.4640613227790753, 2.0], [0.1809672063476993, 2.0], [1.0871344872070012, 2.0], [0.6404367495231457, 2.0], [1.095223709938478, 2.0], [-0.7514671406482263, 2.0], [1.0432977807062809, 2.0], [-0.010190070727852822, 2.0], [-0.5110861958950897, 2.0], [0.5110980606834775, 2.0], [0.2623357561531805, 2.0], [0.984044545169431, 2.0], [-0.1748640019656959, 2.0], [0.9275729420326997, 2.0], [0.6595927890562004, 2.0], [0.23454058625983584, 2.0], [0.9423617073988423, 2.0], [0.04324640032870497, 2.0], [1.1162407237538159, 2.0], [0.3567865678304614, 2.0], [1.2964688502855342, 2.0], [0.9205026489090096, 2.0], [0.7140082136428333, 2.0], [0.8996408632837759, 2.0], [1.33104141885472, 2.0], [1.557396272070702, 2.0], [0.812455548998002, 2.0], [-0.30733475566340396, 2.0], [-0.07034288894927106, 2.0], [-0.19188449210314515, 2.0], [0.13499495045137355, 2.0], [1.378736982775583, 2.0], [0.5872748535799112, 2.0], [0.8072054966767166, 2.0], [1.2204289662446792, 2.0], [0.81286779036907, 2.0], [0.2451951616903462, 2.0], [0.16451342836925617, 2.0], [0.4630309888714247, 2.0], [0.8901604456511564, 2.0], [0.2288790499696479, 2.0], [-0.7070812839208597, 2.0], [0.35553303918706386, 2.0], [0.33112694733272313, 2.0], [0.375238228946766, 2.0], [0.6416902781665432, 2.0], [-0.9084633331234948, 2.0], [0.2978079074069342, 2.0], [2.5317269804395583, 3.0], [1.4140722251737576, 3.0], [2.6164846082840434, 3.0], [1.970814945906482, 3.0], [2.349757983950943, 3.0], [3.3968799206781375, 3.0], [0.5193832450849368, 3.0], [2.932005096991301, 3.0], [2.319672793874053, 3.0], [2.9181342336442513, 3.0], [1.6619349470194866, 3.0], [1.8023404526607334, 3.0], [2.165378862953397, 3.0], [1.3445942175098249, 3.0], [1.585267299308644, 3.0], [1.9047435782139124, 3.0], [1.949248781864498, 3.0], [3.488765379656386, 3.0], [3.79468686120997, 3.0], [1.2983298245678165, 3.0], [2.4281672590208476, 3.0], [1.1980973722749628, 3.0], [3.4992654842989572, 3.0], [1.3876682501815556, 3.0], [2.2758536493056933, 3.0], [2.6141938306983334, 3.0], [1.2576251829251366, 3.0], [1.2906696477376016, 3.0], [2.1228539805083133, 3.0], [2.3875644023690277, 3.0], [2.840960925285384, 3.0], [3.232342898295874, 3.0], [2.158738373133135, 3.0], [1.4431026043759747, 3.0], [1.7796401068985703, 3.0], [3.076521621020662, 3.0], [2.144986856709304, 3.0], [1.9048629251371318, 3.0], [1.1688534694704038, 3.0], [2.107653731173268, 3.0], [2.314303394629548, 3.0], [1.9224508848357522, 3.0], [1.4140722251737576, 3.0], [2.563322712340809, 3.0], [2.41939121980498, 3.0], [1.9440170488777369, 3.0], [1.5256636313138727, 3.0], [1.764045935526983, 3.0], [1.901629075288233, 3.0], [1.3896661333194171, 3.0]]\n"
          ]
        }
      ]
    },
    {
      "cell_type": "code",
      "source": [
        "new_data.extend(final_data)\n",
        "print(len(new_data))\n",
        "new_data = np.array(new_data)\n",
        "final_data = np.array(final_data)\n",
        "np.random.shuffle(final_data)\n",
        "print(final_data)\n",
        "model_with_new_data = GaussianNB()\n",
        "model_with_new_data.fit(new_data[:, 0].reshape(-1, 1), new_data[:, 1].reshape(-1, 1))\n",
        "pred_data_new = model_with_real_data.predict(new_data[:, 0].reshape(-1, 1))\n",
        "new_accuracy = accuracy_score(pred_data_new,new_data[:, 1].reshape(-1, 1))\n",
        "print(new_accuracy)"
      ],
      "metadata": {
        "id": "DmPWp-kXOMlA"
      },
      "execution_count": null,
      "outputs": []
    },
    {
      "cell_type": "code",
      "source": [
        "def data_accuracy(flow, data_final):\n",
        "  test_set = data_final[:50]\n",
        "  train_set = data_final[50:]\n",
        "  model_with_real_data = GaussianNB()\n",
        "  model_with_real_data.fit(train_set[:, 0].reshape(-1, 1), train_set[:, 1].reshape(-1, 1))\n",
        "  pred_data_real_2 = model_with_real_data.predict(data_final[:, 0].reshape(-1, 1))\n",
        "  pred_data_real = model_with_real_data.predict(test_set[:, 0].reshape(-1, 1))\n",
        "  original_accuracy = accuracy_score(pred_data_real,test_set[:, 1].reshape(-1, 1))\n",
        "\n",
        "  max_accuracy = 0\n",
        "  final_sampled_pred_data = []\n",
        "  final_sample = []\n",
        "  for i in range(100):\n",
        "    samples = flow.sample(N_SAMPLES)\n",
        "    samples = samples.detach().numpy()\n",
        "\n",
        "    y_sample = samples[:, 1]\n",
        "    for i in range(N_SAMPLES):\n",
        "      y_sample[i] = math.floor(y_sample[i])\n",
        "      if y_sample[i] < MIN_CLASS_INT:\n",
        "        y_sample[i] = MIN_CLASS_INT\n",
        "      elif y_sample[i] > MAX_CLASS_INT:\n",
        "        y_sample[i] = MAX_CLASS_INT\n",
        "\n",
        "    model_with_sampled_data = GaussianNB()\n",
        "\n",
        "    model_with_sampled_data.fit(samples[:, 0].reshape(-1, 1), samples[:, 1].reshape(-1, 1))\n",
        "\n",
        "    pred_data_sampled = model_with_sampled_data.predict(data_final[:, 0].reshape(-1, 1))\n",
        "\n",
        "    accuracy = accuracy_score(pred_data_real_2,pred_data_sampled)\n",
        "\n",
        "    if max_accuracy < accuracy:\n",
        "      max_accuracy = accuracy\n",
        "      final_sampled_pred_data = pred_data_sampled\n",
        "      final_sample = samples\n",
        "\n",
        "\n",
        "  new_data = []  \n",
        "  for i in range(N_SAMPLES):\n",
        "    if final_sampled_pred_data[i] == pred_data_real_2[i]:\n",
        "      new_data.append(final_sample[i])\n",
        "  new_data = np.array(new_data)\n",
        "  new_data = new_data.tolist()\n",
        "  data_final = data_final.tolist()\n",
        "\n",
        "  new_data.extend(data_final)\n",
        "  new_data = np.array(new_data)\n",
        "  data_final = np.array(data_final)\n",
        "  model_with_new_data = GaussianNB()\n",
        "  model_with_new_data.fit(new_data[:, 0].reshape(-1, 1), new_data[:, 1].reshape(-1, 1))\n",
        "  pred_data_new = model_with_new_data.predict(test_set[:, 0].reshape(-1, 1))\n",
        "  new_accuracy = accuracy_score(pred_data_new,test_set[:, 1].reshape(-1, 1))\n",
        "\n",
        "  return original_accuracy, new_accuracy\n",
        "\n",
        "def data_accuracy_2(flow, data_f):\n",
        "  min_ = 9999\n",
        "  orig = 0\n",
        "  new = 0\n",
        "  for i in range(50):\n",
        "    o, n = data_accuracy(flow, data_f)\n",
        "    if min_ > (o-n):\n",
        "      min_ = o-n\n",
        "      orig = o\n",
        "      new = n\n",
        "  print(orig)\n",
        "  print(n)\n",
        "\n",
        "\n",
        "\n",
        "\n",
        "np.random.shuffle(final_data)"
      ],
      "metadata": {
        "id": "LQRw6fkeRtcJ"
      },
      "execution_count": 234,
      "outputs": []
    },
    {
      "cell_type": "code",
      "source": [
        "data_accuracy_2(flow, final_data)"
      ],
      "metadata": {
        "colab": {
          "base_uri": "https://localhost:8080/"
        },
        "id": "TNxs5MMRSBQJ",
        "outputId": "8fa0e5a9-3fff-47b5-ae9c-a462be902edb"
      },
      "execution_count": 238,
      "outputs": [
        {
          "output_type": "stream",
          "name": "stdout",
          "text": [
            "0.88\n",
            "0.86\n"
          ]
        }
      ]
    },
    {
      "cell_type": "code",
      "source": [
        "data_accuracy_2(flow_cl, final_data)"
      ],
      "metadata": {
        "colab": {
          "base_uri": "https://localhost:8080/"
        },
        "id": "K2qZQsQMSQDB",
        "outputId": "e1f5afe2-da04-42c9-c57d-c7f2f3655951"
      },
      "execution_count": 239,
      "outputs": [
        {
          "output_type": "stream",
          "name": "stdout",
          "text": [
            "0.88\n",
            "0.88\n"
          ]
        }
      ]
    },
    {
      "cell_type": "code",
      "source": [
        "data_accuracy_2(flow_l, final_data)"
      ],
      "metadata": {
        "colab": {
          "base_uri": "https://localhost:8080/"
        },
        "id": "mSUKXlTuTRmS",
        "outputId": "425c5518-bfb6-47e1-ee74-c3d638e8ef21"
      },
      "execution_count": 237,
      "outputs": [
        {
          "output_type": "stream",
          "name": "stdout",
          "text": [
            "0.88\n",
            "0.86\n"
          ]
        }
      ]
    }
  ]
}